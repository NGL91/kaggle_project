{
 "cells": [
  {
   "cell_type": "markdown",
   "metadata": {},
   "source": [
    "# Predict survival on the Titanic using Excel, Python, R & Random Forests\n",
    "\n",
    "If you're new to data science and machine learning, or looking for a simple intro to the Kaggle competitions platform, this is the best place to start. Continue reading below the competition description to discover a number of tutorials, benchmark models, and more.\n",
    "\n",
    "## Competition Description\n",
    "\n",
    "The sinking of the RMS Titanic is one of the most infamous shipwrecks in history.  On April 15, 1912, during her maiden voyage, the Titanic sank after colliding with an iceberg, killing 1502 out of 2224 passengers and crew. This sensational tragedy shocked the international community and led to better safety regulations for ships.\n",
    "\n",
    "One of the reasons that the shipwreck led to such loss of life was that there were not enough lifeboats for the passengers and crew. Although there was some element of luck involved in surviving the sinking, some groups of people were more likely to survive than others, such as women, children, and the upper-class.\n",
    "\n",
    "In this challenge, we ask you to complete the analysis of what sorts of people were likely to survive. In particular, we ask you to apply the tools of machine learning to predict which passengers survived the tragedy."
   ]
  },
  {
   "cell_type": "markdown",
   "metadata": {},
   "source": [
    "* Data Files\n",
    "\n",
    "File Name\tAvailable Formats\n",
    "train.csv                (59.76 kb)\n",
    "gendermodel.csv          (3.18 kb)\n",
    "genderclassmodel.csv     (3.18 kb)\n",
    "test.csv                 (27.96 kb)\n",
    "gendermodel.py           (3.58 kb)\n",
    "genderclassmodel.py      (5.63 kb)\n",
    "myfirstforest.py         (3.99 kb)"
   ]
  },
  {
   "cell_type": "markdown",
   "metadata": {},
   "source": [
    "# Study be practice\n",
    "\n",
    "All practise in this notebook is applied using 'Applied Machine Learning Process' of machinelearningmastery.com"
   ]
  },
  {
   "cell_type": "markdown",
   "metadata": {},
   "source": [
    "## I.Define the problem\n",
    "\n",
    "** 1. What is the problem?\n",
    " \n",
    " - Informally: Predict survival of people in Titanic sank.\n",
    " - Formally: Predict survival of people in test.csv after learning in train.csv with highest performance.\n",
    " - Assumption:\n",
    "     ++ Age and Gender matter to the surival.\n",
    "     ++ Price of room where they lived matter to the survival.\n",
    "\n",
    "** 2. Why you need to solve this problem?\n",
    "\n",
    " - Because I need to create a porfolio for machine learning, and Titanic is the best place to start.\n",
    " - Titanic is the first dataset Kaggle suggest to practice.\n",
    " - These are lots of notebook about Titanic to find out, understand the process, etc.\n",
    " - The solution is to use a machine learning algorithm to predict the survival of people in test.csv.\n",
    " \n",
    "** 3. How would I solve the problem?\n",
    "\n",
    " - First: Understand the data, what is its features. \n",
    " - Second: Check the outliers, missing datas.\n",
    " - Third: Univariate and Bivariate to understand the correlation between features and survival.\n",
    " - Fourth: Remove outliers, missing datas in need.\n",
    " - Fifth: Fit the training data into some machine learning algorithm to find the best algorithm to predict the survival.\n",
    " \n"
   ]
  },
  {
   "cell_type": "markdown",
   "metadata": {},
   "source": [
    "## Data Exploration\n",
    "In this section, I will explore and prepare data for modelling in the next section\n"
   ]
  },
  {
   "cell_type": "markdown",
   "metadata": {},
   "source": [
    "1. Variable Identification\n",
    "Features in our training data:\n",
    "\n",
    "  - Pclass: Passenger Class (1-3). Richest people lived at 1st class.            (Number - Categorical)\n",
    "  - Sex: male or female.                                                         (Text - Categorical)\n",
    "  - Age                                                                          (Number - Continuous)\n",
    "  - SibSp: Number of Siblings/Spouses Aboard (Brother,Sister,Stepbrother,Stepsister ) (Number - Continuous)\n",
    "  - Parch: Number of Parents/Children Aboard.                                         (Number - Continuous)\n",
    "  - Ticket: Ticket number. If its matter the survival, i will be very suprise.        (Text - Categorical(lots of))\n",
    "  - fare:Passenger Fare.                                                              (Number - Continuous)\n",
    "  - cabin: Cabin                                                                      (??)\n",
    "  - embarked: Port of Embarkation (C = Cherbourg; Q = Queenstown; S = Southampton)    (Text - Categorical)\n",
    "\n",
    "Label:\n",
    "  - Survived: Survival of people: 1/0                                                 (Number - Categorical)\n",
    "                \n"
   ]
  },
  {
   "cell_type": "markdown",
   "metadata": {},
   "source": [
    "2. Univariate Analysis\n",
    "Visuallize to see the correlation between each feature with label"
   ]
  },
  {
   "cell_type": "code",
   "execution_count": 107,
   "metadata": {
    "collapsed": false
   },
   "outputs": [
    {
     "data": {
      "text/html": [
       "<div>\n",
       "<table border=\"1\" class=\"dataframe\">\n",
       "  <thead>\n",
       "    <tr style=\"text-align: right;\">\n",
       "      <th></th>\n",
       "      <th>PassengerId</th>\n",
       "      <th>Survived</th>\n",
       "      <th>Pclass</th>\n",
       "      <th>Name</th>\n",
       "      <th>Sex</th>\n",
       "      <th>Age</th>\n",
       "      <th>SibSp</th>\n",
       "      <th>Parch</th>\n",
       "      <th>Ticket</th>\n",
       "      <th>Fare</th>\n",
       "      <th>Cabin</th>\n",
       "      <th>Embarked</th>\n",
       "    </tr>\n",
       "  </thead>\n",
       "  <tbody>\n",
       "    <tr>\n",
       "      <th>0</th>\n",
       "      <td>1</td>\n",
       "      <td>0</td>\n",
       "      <td>3</td>\n",
       "      <td>Braund, Mr. Owen Harris</td>\n",
       "      <td>male</td>\n",
       "      <td>22.0</td>\n",
       "      <td>1</td>\n",
       "      <td>0</td>\n",
       "      <td>A/5 21171</td>\n",
       "      <td>7.2500</td>\n",
       "      <td>NaN</td>\n",
       "      <td>S</td>\n",
       "    </tr>\n",
       "    <tr>\n",
       "      <th>1</th>\n",
       "      <td>2</td>\n",
       "      <td>1</td>\n",
       "      <td>1</td>\n",
       "      <td>Cumings, Mrs. John Bradley (Florence Briggs Th...</td>\n",
       "      <td>female</td>\n",
       "      <td>38.0</td>\n",
       "      <td>1</td>\n",
       "      <td>0</td>\n",
       "      <td>PC 17599</td>\n",
       "      <td>71.2833</td>\n",
       "      <td>C85</td>\n",
       "      <td>C</td>\n",
       "    </tr>\n",
       "    <tr>\n",
       "      <th>2</th>\n",
       "      <td>3</td>\n",
       "      <td>1</td>\n",
       "      <td>3</td>\n",
       "      <td>Heikkinen, Miss. Laina</td>\n",
       "      <td>female</td>\n",
       "      <td>26.0</td>\n",
       "      <td>0</td>\n",
       "      <td>0</td>\n",
       "      <td>STON/O2. 3101282</td>\n",
       "      <td>7.9250</td>\n",
       "      <td>NaN</td>\n",
       "      <td>S</td>\n",
       "    </tr>\n",
       "    <tr>\n",
       "      <th>3</th>\n",
       "      <td>4</td>\n",
       "      <td>1</td>\n",
       "      <td>1</td>\n",
       "      <td>Futrelle, Mrs. Jacques Heath (Lily May Peel)</td>\n",
       "      <td>female</td>\n",
       "      <td>35.0</td>\n",
       "      <td>1</td>\n",
       "      <td>0</td>\n",
       "      <td>113803</td>\n",
       "      <td>53.1000</td>\n",
       "      <td>C123</td>\n",
       "      <td>S</td>\n",
       "    </tr>\n",
       "    <tr>\n",
       "      <th>4</th>\n",
       "      <td>5</td>\n",
       "      <td>0</td>\n",
       "      <td>3</td>\n",
       "      <td>Allen, Mr. William Henry</td>\n",
       "      <td>male</td>\n",
       "      <td>35.0</td>\n",
       "      <td>0</td>\n",
       "      <td>0</td>\n",
       "      <td>373450</td>\n",
       "      <td>8.0500</td>\n",
       "      <td>NaN</td>\n",
       "      <td>S</td>\n",
       "    </tr>\n",
       "  </tbody>\n",
       "</table>\n",
       "</div>"
      ],
      "text/plain": [
       "   PassengerId  Survived  Pclass  \\\n",
       "0            1         0       3   \n",
       "1            2         1       1   \n",
       "2            3         1       3   \n",
       "3            4         1       1   \n",
       "4            5         0       3   \n",
       "\n",
       "                                                Name     Sex   Age  SibSp  \\\n",
       "0                            Braund, Mr. Owen Harris    male  22.0      1   \n",
       "1  Cumings, Mrs. John Bradley (Florence Briggs Th...  female  38.0      1   \n",
       "2                             Heikkinen, Miss. Laina  female  26.0      0   \n",
       "3       Futrelle, Mrs. Jacques Heath (Lily May Peel)  female  35.0      1   \n",
       "4                           Allen, Mr. William Henry    male  35.0      0   \n",
       "\n",
       "   Parch            Ticket     Fare Cabin Embarked  \n",
       "0      0         A/5 21171   7.2500   NaN        S  \n",
       "1      0          PC 17599  71.2833   C85        C  \n",
       "2      0  STON/O2. 3101282   7.9250   NaN        S  \n",
       "3      0            113803  53.1000  C123        S  \n",
       "4      0            373450   8.0500   NaN        S  "
      ]
     },
     "execution_count": 107,
     "metadata": {},
     "output_type": "execute_result"
    }
   ],
   "source": [
    "#At first let import the date\n",
    "import os\n",
    "os.getcwd()\n",
    "\n",
    "import matplotlib.pyplot as plt\n",
    "import numpy as np\n",
    "import pandas as pd\n",
    "%matplotlib inline\n",
    "\n",
    "data = pd.read_csv('train.csv')\n",
    "data.head(5)"
   ]
  },
  {
   "cell_type": "code",
   "execution_count": 34,
   "metadata": {
    "collapsed": false
   },
   "outputs": [
    {
     "name": "stdout",
     "output_type": "stream",
     "text": [
      "(891, 12)\n",
      "Number of NaN value of feature Age :177\n",
      "Number of NaN value of feature Cabin :687\n",
      "Number of NaN value of feature Embarked :2\n"
     ]
    }
   ],
   "source": [
    "#If feature has NaN value, the visualization with be not correctly, so i will try to check the missing first \n",
    "print (data.shape)\n",
    "\n",
    "#Using pandas.series.isnull()\n",
    "for col in data.columns.values:\n",
    "    nan_values = data[col].isnull().sum()\n",
    "    if nan_values:\n",
    "        print (\"Number of NaN value of feature \"+col+ \" :\" + str( nan_values) )\n",
    "\n",
    "\n",
    "#print (data.isnull().any())\n"
   ]
  },
  {
   "cell_type": "code",
   "execution_count": 108,
   "metadata": {
    "collapsed": false
   },
   "outputs": [
    {
     "data": {
      "text/plain": [
       "(712, 11)"
      ]
     },
     "execution_count": 108,
     "metadata": {},
     "output_type": "execute_result"
    }
   ],
   "source": [
    "#As we see, feature Cabin have format like letter plus number. I dont think it has two much reflection on predict \n",
    "#the survival of people. Also, the NaN value of Cabin is 687 on total 891. \n",
    "#So i will remove Cabin from our dataset\n",
    "if 'Cabin' in data.columns.values:\n",
    "    data.drop(['Cabin'], axis=1, inplace=True)\n",
    "\n",
    "test = data.dropna()\n",
    "test.shape"
   ]
  },
  {
   "cell_type": "code",
   "execution_count": 133,
   "metadata": {
    "collapsed": false
   },
   "outputs": [
    {
     "data": {
      "text/plain": [
       "<matplotlib.legend.Legend at 0x7f20342e5f98>"
      ]
     },
     "execution_count": 133,
     "metadata": {},
     "output_type": "execute_result"
    },
    {
     "data": {
      "image/png": "[encoded data removed]",
      "text/plain": [
       "<matplotlib.figure.Figure at 0x7f20344090b8>"
      ]
     },
     "metadata": {},
     "output_type": "display_data"
    }
   ],
   "source": [
    "#With age feature, i consider in replace with mean value or remove its.\n",
    "#I will visuallize the relation between age and survival to decide whether remove or fill NaN values of Age\n",
    "fig = plt.figure(figsize=(18,4), dpi=1600)\n",
    "\n",
    "ax1=fig.add_subplot(121)\n",
    "age_test = data[['Age','Survived']]\n",
    "age_test = age_test[age_test['Age'].notnull()]\n",
    "#print (age_test.head(10))\n",
    "plt.hist(age_test['Age'],15,normed=1, facecolor='g', alpha=0.75)\n",
    "plt.xlabel('Age')\n",
    "plt.ylabel('Frequency')\n",
    "plt.title('Age Histogram')\n",
    "\n",
    "\n",
    "\n",
    "ax2=fig.add_subplot(122)\n",
    "age_test['Age'] = age_test['Age'] /10\n",
    "age_test['Age'] = age_test['Age'].astype('int')\n",
    "#print (age_test.head(10))\n",
    "age_test['Age'][age_test['Survived']==0].plot(kind='hist', color='r')\n",
    "age_test['Age'][age_test['Survived']==1].plot(kind='hist', alpha=0.5)\n",
    "ax2.set_xlabel('Age/10')\n",
    "ax2.legend(['Died','Survived'])\n"
   ]
  },
  {
   "cell_type": "markdown",
   "metadata": {},
   "source": [
    "From visuallize above, we can see that:\n",
    " - "
   ]
  },
  {
   "cell_type": "code",
   "execution_count": null,
   "metadata": {
    "collapsed": true
   },
   "outputs": [],
   "source": []
  }
 ],
 "metadata": {
  "kernelspec": {
   "display_name": "Python 3",
   "language": "python",
   "name": "python3"
  },
  "language_info": {
   "codemirror_mode": {
    "name": "ipython",
    "version": 3
   },
   "file_extension": ".py",
   "mimetype": "text/x-python",
   "name": "python",
   "nbconvert_exporter": "python",
   "pygments_lexer": "ipython3",
   "version": "3.5.2"
  }
 },
 "nbformat": 4,
 "nbformat_minor": 0
}
