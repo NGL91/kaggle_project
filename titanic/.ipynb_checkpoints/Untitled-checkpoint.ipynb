{
 "cells": [
  {
   "cell_type": "markdown",
   "metadata": {},
   "source": [
    "# Predict survival on the Titanic using Excel, Python, R & Random Forests\n",
    "\n",
    "If you're new to data science and machine learning, or looking for a simple intro to the Kaggle competitions platform, this is the best place to start. Continue reading below the competition description to discover a number of tutorials, benchmark models, and more.\n",
    "\n",
    "## Competition Description\n",
    "\n",
    "The sinking of the RMS Titanic is one of the most infamous shipwrecks in history.  On April 15, 1912, during her maiden voyage, the Titanic sank after colliding with an iceberg, killing 1502 out of 2224 passengers and crew. This sensational tragedy shocked the international community and led to better safety regulations for ships.\n",
    "\n",
    "One of the reasons that the shipwreck led to such loss of life was that there were not enough lifeboats for the passengers and crew. Although there was some element of luck involved in surviving the sinking, some groups of people were more likely to survive than others, such as women, children, and the upper-class.\n",
    "\n",
    "In this challenge, we ask you to complete the analysis of what sorts of people were likely to survive. In particular, we ask you to apply the tools of machine learning to predict which passengers survived the tragedy."
   ]
  },
  {
   "cell_type": "markdown",
   "metadata": {},
   "source": [
    "* Data Files\n",
    "\n",
    "File Name\tAvailable Formats\n",
    "train.csv                (59.76 kb)\n",
    "gendermodel.csv          (3.18 kb)\n",
    "genderclassmodel.csv     (3.18 kb)\n",
    "test.csv                 (27.96 kb)\n",
    "gendermodel.py           (3.58 kb)\n",
    "genderclassmodel.py      (5.63 kb)\n",
    "myfirstforest.py         (3.99 kb)"
   ]
  },
  {
   "cell_type": "markdown",
   "metadata": {},
   "source": [
    "# Study be practice\n",
    "\n",
    "All practise in this notebook is applied using 'Applied Machine Learning Process' of machinelearningmastery.com"
   ]
  },
  {
   "cell_type": "markdown",
   "metadata": {},
   "source": [
    "## I.Define the problem\n",
    "\n",
    "** 1. What is the problem?\n",
    " \n",
    " - Informally: Predict survival of people in Titanic sank.\n",
    " - Formally: Predict survival of people in test.csv after learning in train.csv with highest performance.\n",
    " - Assumption:\n",
    "     ++ Age and Gender matter to the surival.\n",
    "     ++ Price of room where they lived matter to the survival.\n",
    "\n",
    "** 2. Why you need to solve this problem?\n",
    "\n",
    " - Because I need to create a porfolio for machine learning, and Titanic is the best place to start.\n",
    " - Titanic is the first dataset Kaggle suggest to practice.\n",
    " - These are lots of notebook about Titanic to find out, understand the process, etc.\n",
    " - The solution is to use a machine learning algorithm to predict the survival of people in test.csv.\n",
    " \n",
    "** 3. How would I solve the problem?\n",
    "\n",
    " - First: Understand the data, what is its features. \n",
    " - Second: Check the outliers, missing datas.\n",
    " - Third: Univariate and Bivariate to understand the correlation between features and survival.\n",
    " - Fourth: Remove outliers, missing datas in need.\n",
    " - Fifth: Fit the training data into some machine learning algorithm to find the best algorithm to predict the survival.\n",
    " \n"
   ]
  },
  {
   "cell_type": "markdown",
   "metadata": {},
   "source": [
    "## Data Exploration\n",
    "In this section, I will explore and prepare data for modelling in the next section\n"
   ]
  },
  {
   "cell_type": "markdown",
   "metadata": {},
   "source": [
    "1. Variable Identification\n",
    "Features in our training data:\n",
    "\n",
    "  - Pclass: Passenger Class (1-3). Richest people lived at 1st class.\n",
    "  - Sex: male or female.\n",
    "  - Age\n",
    "  - SibSp: Number of Siblings/Spouses Aboard (Brother, Sister, Stepbrother, or Stepsister )\n",
    "  - Parch: Number of Parents/Children Aboard.\n",
    "  - Ticket: Ticket number. If its matter the survival, i will be very suprise.\n",
    "  - fare:Passenger Fare.\n",
    "  - cabin: Cabin\n",
    "  - embarked: Port of Embarkation (C = Cherbourg; Q = Queenstown; S = Southampton)\n",
    "                \n"
   ]
  }
 ],
 "metadata": {
  "kernelspec": {
   "display_name": "Python 3",
   "language": "python",
   "name": "python3"
  },
  "language_info": {
   "codemirror_mode": {
    "name": "ipython",
    "version": 3
   },
   "file_extension": ".py",
   "mimetype": "text/x-python",
   "name": "python",
   "nbconvert_exporter": "python",
   "pygments_lexer": "ipython3",
   "version": "3.5.2"
  }
 },
 "nbformat": 4,
 "nbformat_minor": 0
}
